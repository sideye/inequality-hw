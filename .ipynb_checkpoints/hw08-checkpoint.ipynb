{
 "cells": [
  {
   "cell_type": "markdown",
   "metadata": {},
   "source": [
    "<table style=\"width: 100%;\" id=\"nb-header\">\n",
    "    <tr style=\"background-color: transparent;\"><td>\n",
    "        <img src=\"https://d8a-88.github.io/econ-fa19/assets/images/blue_text.png\" width=\"250px\" style=\"margin-left: 0;\" />\n",
    "    </td><td>\n",
    "        <p style=\"text-align: right; font-size: 12pt;\"><strong>Economic Models</strong>, Fall 2019<br>\n",
    "            Dr. Eric Van Dusen</p></td></tr>\n",
    "</table>"
   ]
  },
  {
   "cell_type": "code",
   "execution_count": 97,
   "metadata": {},
   "outputs": [],
   "source": [
    "from datascience import *\n",
    "import numpy as np\n",
    "import matplotlib.pyplot as plt\n",
    "from sympy import * \n",
    "from scipy.optimize import minimize\n",
    "\n",
    "%matplotlib inline"
   ]
  },
  {
   "cell_type": "markdown",
   "metadata": {},
   "source": [
    "## 1. The Lorenz Curve\n",
    "There are many mathematical models used to model the Lorenz curve. For this homework, we will work with the simplified Rao-Tam Lorenz curve<sup>1</sup>, as defined by:\n",
    "$$L(x)=x^k$$"
   ]
  },
  {
   "cell_type": "markdown",
   "metadata": {},
   "source": [
    "### Question 1\n",
    "Show that the simplified Rao-Tam Lorenz curve model satisfies the conditions for a Lorenz curve. "
   ]
  },
  {
   "cell_type": "code",
   "execution_count": 2,
   "metadata": {},
   "outputs": [],
   "source": [
    "# YOUR ANSWER HERE"
   ]
  },
  {
   "cell_type": "markdown",
   "metadata": {},
   "source": [
    "## 2. Fitting the Lorenz Curve to Data\n",
    "Now, let's try to fit some this model to the existing US data. From the 2018 census data on *Income and Poverty in the United States*<sup>2</sup> published by the US census, we get:"
   ]
  },
  {
   "cell_type": "code",
   "execution_count": 14,
   "metadata": {},
   "outputs": [
    {
     "data": {
      "text/html": [
       "<table border=\"1\" class=\"dataframe\">\n",
       "    <thead>\n",
       "        <tr>\n",
       "            <th>income_group</th> <th>income_share</th>\n",
       "        </tr>\n",
       "    </thead>\n",
       "    <tbody>\n",
       "        <tr>\n",
       "            <td>1st quintile</td> <td>0.031       </td>\n",
       "        </tr>\n",
       "        <tr>\n",
       "            <td>2nd quintile</td> <td>0.083       </td>\n",
       "        </tr>\n",
       "        <tr>\n",
       "            <td>3rd quintile</td> <td>0.141       </td>\n",
       "        </tr>\n",
       "        <tr>\n",
       "            <td>4th quintile</td> <td>0.226       </td>\n",
       "        </tr>\n",
       "        <tr>\n",
       "            <td>5th quintile</td> <td>0.519       </td>\n",
       "        </tr>\n",
       "    </tbody>\n",
       "</table>"
      ],
      "text/plain": [
       "income_group | income_share\n",
       "1st quintile | 0.031\n",
       "2nd quintile | 0.083\n",
       "3rd quintile | 0.141\n",
       "4th quintile | 0.226\n",
       "5th quintile | 0.519"
      ]
     },
     "execution_count": 14,
     "metadata": {},
     "output_type": "execute_result"
    }
   ],
   "source": [
    "us = Table().read_table(\"us_income.csv\")\n",
    "us"
   ]
  },
  {
   "cell_type": "markdown",
   "metadata": {},
   "source": [
    "For each row of the table, `income_share` shows the proportion of total income a `income_group` owns. For example, the richest 20% (5th quintile) earned 51.9% of the total national income."
   ]
  },
  {
   "cell_type": "markdown",
   "metadata": {},
   "source": [
    "### Question 2.1\n",
    "Let's convert this table to points on the Lorenz curve. Recall that the Lorenz curve's y-axis is the cumulative income share: at the 20th percentile, the total income share is 3.1%, while at the 40th percentile, the total income share is 8.3% + 3.1% = 12.4%. \n",
    "\n",
    "*Hint: use `np.cumsum` for `y`.*"
   ]
  },
  {
   "cell_type": "code",
   "execution_count": 11,
   "metadata": {},
   "outputs": [],
   "source": [
    "# YOUR ANSWER HERE\n",
    "income_group = ...\n",
    "cum_income_share = ...\n",
    "\n",
    "us_cumulative = Table().with_columns(\"income_percentile\", income_group, \"cum_income_share\", cum_income_share)\n",
    "us_cumulative"
   ]
  },
  {
   "cell_type": "markdown",
   "metadata": {},
   "source": [
    "### Question 2.2.1\n",
    "In addition, the US census bureau reported that the top 5 percent of income earners' income share was 23.1%. What is the corresponding (x,y) point to this data point? \n"
   ]
  },
  {
   "cell_type": "code",
   "execution_count": null,
   "metadata": {},
   "outputs": [],
   "source": [
    "x = ...\n",
    "y = ..."
   ]
  },
  {
   "cell_type": "markdown",
   "metadata": {},
   "source": [
    "### Question 2.2.2\n",
    "Add this pair of coordinates to our table, by appending `income_group` and `cum_income_share` with `x` and `y`."
   ]
  },
  {
   "cell_type": "code",
   "execution_count": null,
   "metadata": {},
   "outputs": [],
   "source": [
    "income_group = ... \n",
    "cum_income_share = ...\n",
    "us_cumulative = Table().with_columns(\"income_percentile\", income_group, \"cum_income_share\", cum_income_share)\n",
    "us_cumulative"
   ]
  },
  {
   "cell_type": "markdown",
   "metadata": {},
   "source": [
    "### Question 2.3.1\n",
    "To more easily fit our data, we will take the natural log of the curve to make it linear. Expres this transformed equation in $\\LaTeX$. (Your answer should be in the form $\\ln{y} = ...$)"
   ]
  },
  {
   "cell_type": "code",
   "execution_count": 19,
   "metadata": {},
   "outputs": [],
   "source": [
    "# Your answer here"
   ]
  },
  {
   "cell_type": "markdown",
   "metadata": {},
   "source": [
    "### Question 2.3.2\n",
    "Transform the data and append it to the new table. Use the [`np.log`](https://docs.scipy.org/doc/numpy/reference/generated/numpy.log.html) function."
   ]
  },
  {
   "cell_type": "code",
   "execution_count": 28,
   "metadata": {},
   "outputs": [
    {
     "data": {
      "text/html": [
       "<table border=\"1\" class=\"dataframe\">\n",
       "    <thead>\n",
       "        <tr>\n",
       "            <th>log_income_group</th> <th>log_cum_income_share</th>\n",
       "        </tr>\n",
       "    </thead>\n",
       "    <tbody>\n",
       "        <tr>\n",
       "            <td>Ellipsis        </td> <td>Ellipsis            </td>\n",
       "        </tr>\n",
       "    </tbody>\n",
       "</table>"
      ],
      "text/plain": [
       "log_income_group | log_cum_income_share\n",
       "Ellipsis         | Ellipsis"
      ]
     },
     "execution_count": 28,
     "metadata": {},
     "output_type": "execute_result"
    }
   ],
   "source": [
    "log_x = ...\n",
    "log_y = ...\n",
    "us_log = Table().with_columns(\"log_income_percentile\", log_x, \"log_cum_income_share\", log_y)\n",
    "us_log"
   ]
  },
  {
   "cell_type": "markdown",
   "metadata": {},
   "source": [
    "### Question 2.4\n",
    "Create a scatter plot of this table. Add a line of best fit by setting the `fit_line` parameter to be `True`."
   ]
  },
  {
   "cell_type": "code",
   "execution_count": 20,
   "metadata": {},
   "outputs": [],
   "source": [
    "# Your code here"
   ]
  },
  {
   "cell_type": "markdown",
   "metadata": {},
   "source": [
    "### Question 2.5 \n",
    "Now it's time to find $k$. Although this function is linear, it does not have an intercept so that the traditional `np.polyfit` method you've seen in previous lectures will not work. Instead, use the custom `find_k` function provided, which will find the best value of $k$."
   ]
  },
  {
   "cell_type": "code",
   "execution_count": null,
   "metadata": {},
   "outputs": [],
   "source": [
    "from scipy.optimize import minimize\n",
    "def find_k(lnx, lny):\n",
    "    \"\"\"Determines the best value for k in the simplified Rao and Tam model.\n",
    "    \n",
    "    :param lnx: log of the income percentiles (out of 1)\n",
    "    :param lny: log of the income shares (out of 1)\n",
    "    :returns: the best value for k.\n",
    "    \"\"\"\n",
    "    def obj(k):\n",
    "        return np.mean(np.abs(lny - k*lnx))\n",
    "    res = minimize(obj, 2)\n",
    "    return res.x[0]\n",
    "\n",
    "k_hat = find_k(..., ...)\n",
    "k_hat"
   ]
  },
  {
   "cell_type": "markdown",
   "metadata": {},
   "source": [
    "## 3. Gini Coefficients"
   ]
  },
  {
   "cell_type": "markdown",
   "metadata": {},
   "source": [
    "Now that we have found $\\hat{k}$, let's try to determine its theoretical Gini coefficient. Recall that: \n",
    "$$\n",
    "\\begin{align*}\n",
    "\\text{Gini} &= \\frac{\\text{Area between line of equality and Lorenz Curve}}{\\text{Area under line of equality}} \\\\\n",
    "&= \\frac{\\int_0^1 x \\text{d}x - \\int_0^1 L(x) \\text{d}x}{\\int_0^1 x \\text{d}x} \\\\ \n",
    "&= 1 - 2\\int_0^1 L(x) \\text{d}x\n",
    "\\end{align*}$$"
   ]
  },
  {
   "cell_type": "markdown",
   "metadata": {},
   "source": [
    "### Question 3.1 \n",
    "Calculate the gini coefficient using the formula from the last line above. We will use SymPy to help us integrate the $\\int_0^1 L(x) \\text{d}x$. \n"
   ]
  },
  {
   "cell_type": "code",
   "execution_count": 69,
   "metadata": {},
   "outputs": [],
   "source": [
    "x = Symbol('x')\n",
    "area_under_lorenz = integrate(...)\n",
    "gini = ...\n",
    "gini"
   ]
  },
  {
   "cell_type": "markdown",
   "metadata": {},
   "source": [
    "### Question 3.2\n",
    "The actual Gini coefficient in 2018 was reported to be 0.486. Is your result different than the reported value? What are some sources of potential error?"
   ]
  },
  {
   "cell_type": "code",
   "execution_count": 71,
   "metadata": {},
   "outputs": [],
   "source": [
    "# Your answer here"
   ]
  },
  {
   "cell_type": "markdown",
   "metadata": {},
   "source": [
    "## 4. Applying to Another Country\n",
    "Now that you've calculuated the Gini coefficient for the US using the simplified Rao and Tam model, let's redo this for another country. \n",
    "\n",
    "You can pick any country you want, but existing data for European countries can be found [here](https://appsso.eurostat.ec.europa.eu/nui/show.do?dataset=ilc_di01&lang=en). Make sure to change the *income and living conditions indicator* to *Share of national equivalised income*, and use the 1st to 5th quintiles under *Quantile*. \n",
    "\n",
    "Make sure to use the latest year's data if possible.\n",
    "\n"
   ]
  },
  {
   "cell_type": "code",
   "execution_count": 106,
   "metadata": {},
   "outputs": [],
   "source": [
    "# Your answer here"
   ]
  },
  {
   "cell_type": "markdown",
   "metadata": {},
   "source": [
    "### Question 4.2 \n",
    "What is the actual Gini coefficient of your chosen country for its most recent year? How does your results compare, and does it perhaps suggest anything about our model?"
   ]
  },
  {
   "cell_type": "code",
   "execution_count": 108,
   "metadata": {},
   "outputs": [],
   "source": [
    "# Your answer here"
   ]
  },
  {
   "cell_type": "markdown",
   "metadata": {},
   "source": [
    "\n",
    "## References\n",
    "1. Rao & Tam curve https://www.tandfonline.com/doi/ref/10.1080/02664768700000032\n",
    "2. Income and Poverty in the US https://www.census.gov/library/publications/2019/demo/p60-266.html"
   ]
  },
  {
   "cell_type": "code",
   "execution_count": 104,
   "metadata": {},
   "outputs": [
    {
     "data": {
      "text/plain": [
       "0.213389827238028"
      ]
     },
     "execution_count": 104,
     "metadata": {},
     "output_type": "execute_result"
    },
    {
     "data": {
      "image/png": "[encoded data removed]",
      "text/plain": [
       "<Figure size 360x360 with 1 Axes>"
      ]
     },
     "metadata": {},
     "output_type": "display_data"
    }
   ],
   "source": [
    "# Scratch work and solutions\n",
    "income_group = np.arange(0.2,1.01,0.2)\n",
    "cum_income_share = np.cumsum(us.column(1))\n",
    "\n",
    "us_cumulative = Table().with_columns(\"income_percentile\", income_group, \"cum_income_share\", cum_income_share)\n",
    "x = 0.95\n",
    "y = 0.769\n",
    "income_group = np.append(us_cumulative.column(\"income_percentile\"), x)\n",
    "cum_income_share = np.append(us_cumulative.column(\"cum_income_share\"), y)\n",
    "us_cumulative = Table().with_columns(\"income_percentile\", income_group, \"cum_income_share\", cum_income_share)\n",
    "log_x = np.log(us_cumulative.column(0))\n",
    "log_y = np.log(us_cumulative.column(1))\n",
    "us_log = Table().with_columns(\"log_income_percentile\", log_x, \"log_cum_income_share\", log_y)\n",
    "us_log.scatter(\"log_income_percentile\", \"log_cum_income_share\", fit_line=True)\n",
    "def find_k(lnx, lny):\n",
    "    \"\"\"Determines the best value for k in the simplified Rao and Tam model.\n",
    "    \n",
    "    :param lnx: log of the income percentiles (out of 1)\n",
    "    :param lny: log of the income shares (out of 1)\n",
    "    :returns: the best value for k.\n",
    "    \"\"\"\n",
    "    def obj(k):\n",
    "        return np.mean(np.abs(lny - k*lnx))\n",
    "    res = minimize(obj, 2)\n",
    "    return res.x[0]\n",
    "\n",
    "k_hat = find_k(us_log.column(0), us_log.column(1))\n",
    "x = Symbol('x')\n",
    "1 - 2*integrate(x ** k_hat, (x, 0, 1))"
   ]
  },
  {
   "cell_type": "code",
   "execution_count": 102,
   "metadata": {},
   "outputs": [
    {
     "data": {
      "text/plain": [
       "0.210664352672417"
      ]
     },
     "execution_count": 102,
     "metadata": {},
     "output_type": "execute_result"
    },
    {
     "data": {
      "image/png": "[encoded data removed]",
      "text/plain": [
       "<Figure size 360x360 with 1 Axes>"
      ]
     },
     "metadata": {},
     "output_type": "display_data"
    }
   ],
   "source": [
    "# Scratch work and solutions for Norway\n",
    "us = Table().read_table(\"norway_income.csv\")\n",
    "income_group = np.arange(0.2,1.01,0.2)\n",
    "cum_income_share = np.cumsum(us.column(1))\n",
    "\n",
    "us_cumulative = Table().with_columns(\"income_percentile\", income_group, \"cum_income_share\", cum_income_share)\n",
    "log_x = np.log(us_cumulative.column(0))\n",
    "log_y = np.log(us_cumulative.column(1))\n",
    "us_log = Table().with_columns(\"log_income_percentile\", log_x, \"log_cum_income_share\", log_y)\n",
    "us_log.scatter(\"log_income_percentile\", \"log_cum_income_share\", fit_line=True)\n",
    "def find_k(lnx, lny):\n",
    "    \"\"\"Determines the best value for k in the simplified Rao and Tam model.\n",
    "    \n",
    "    :param lnx: log of the income percentiles (out of 1)\n",
    "    :param lny: log of the income shares (out of 1)\n",
    "    :returns: the best value for k.\n",
    "    \"\"\"\n",
    "    def obj(k):\n",
    "        return np.mean(np.abs(lny - k*lnx))\n",
    "    res = minimize(obj, 2)\n",
    "    return res.x[0]\n",
    "\n",
    "k_hat = find_k(us_log.column(0), us_log.column(1))\n",
    "x = Symbol('x')\n",
    "1 - 2*integrate(x ** k_hat, (x, 0, 1))"
   ]
  },
  {
   "cell_type": "code",
   "execution_count": null,
   "metadata": {},
   "outputs": [],
   "source": []
  }
 ],
 "metadata": {
  "kernelspec": {
   "display_name": "Python 3",
   "language": "python",
   "name": "python3"
  },
  "language_info": {
   "codemirror_mode": {
    "name": "ipython",
    "version": 3
   },
   "file_extension": ".py",
   "mimetype": "text/x-python",
   "name": "python",
   "nbconvert_exporter": "python",
   "pygments_lexer": "ipython3",
   "version": "3.6.5"
  }
 },
 "nbformat": 4,
 "nbformat_minor": 2
}
